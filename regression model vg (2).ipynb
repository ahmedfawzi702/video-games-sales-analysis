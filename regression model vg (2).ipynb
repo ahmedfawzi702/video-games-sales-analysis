{
 "cells": [
  {
   "cell_type": "code",
   "execution_count": 1,
   "id": "29e31432",
   "metadata": {},
   "outputs": [],
   "source": [
    "import numpy as np\n",
    "import pandas as pd\n",
    "import seaborn as sns \n",
    "import matplotlib.pyplot as plt\n",
    "from sklearn.impute import KNNImputer\n",
    "from sklearn.preprocessing import LabelEncoder\n",
    "from sklearn.preprocessing import StandardScaler\n",
    "from sklearn.feature_selection import mutual_info_classif\n",
    "from skfeature.function.similarity_based import fisher_score\n",
    "import plotly.express as px\n",
    "from sklearn.linear_model import LinearRegression\n",
    "from sklearn.model_selection import train_test_split\n",
    "from sklearn.metrics import mean_absolute_error, mean_squared_error\n",
    "from sklearn.metrics import mean_squared_error, r2_score\n",
    "from sklearn.linear_model import Ridge"
   ]
  },
  {
   "cell_type": "code",
   "execution_count": 2,
   "id": "39ccfbe3",
   "metadata": {},
   "outputs": [],
   "source": [
    "df=pd.read_csv(\"vg2.csv\" , sep = \",\" , encoding = \"utf-8\")"
   ]
  },
  {
   "cell_type": "code",
   "execution_count": 3,
   "id": "864e4ce4",
   "metadata": {},
   "outputs": [
    {
     "data": {
      "text/html": [
       "<div>\n",
       "<style scoped>\n",
       "    .dataframe tbody tr th:only-of-type {\n",
       "        vertical-align: middle;\n",
       "    }\n",
       "\n",
       "    .dataframe tbody tr th {\n",
       "        vertical-align: top;\n",
       "    }\n",
       "\n",
       "    .dataframe thead th {\n",
       "        text-align: right;\n",
       "    }\n",
       "</style>\n",
       "<table border=\"1\" class=\"dataframe\">\n",
       "  <thead>\n",
       "    <tr style=\"text-align: right;\">\n",
       "      <th></th>\n",
       "      <th>Name</th>\n",
       "      <th>Platform</th>\n",
       "      <th>Year</th>\n",
       "      <th>Genre</th>\n",
       "      <th>Publisher</th>\n",
       "      <th>NA_Sales</th>\n",
       "      <th>EU_Sales</th>\n",
       "      <th>JP_Sales</th>\n",
       "      <th>Other_Sales</th>\n",
       "      <th>Global_Sales</th>\n",
       "    </tr>\n",
       "  </thead>\n",
       "  <tbody>\n",
       "    <tr>\n",
       "      <th>0</th>\n",
       "      <td>1.067754</td>\n",
       "      <td>0.858195</td>\n",
       "      <td>-2.836722</td>\n",
       "      <td>-0.246717</td>\n",
       "      <td>359</td>\n",
       "      <td>15.813249</td>\n",
       "      <td>6.606207</td>\n",
       "      <td>11.863941</td>\n",
       "      <td>-0.050111</td>\n",
       "      <td>20</td>\n",
       "    </tr>\n",
       "    <tr>\n",
       "      <th>1</th>\n",
       "      <td>1.065648</td>\n",
       "      <td>-1.286693</td>\n",
       "      <td>-3.009695</td>\n",
       "      <td>-0.246717</td>\n",
       "      <td>359</td>\n",
       "      <td>13.154171</td>\n",
       "      <td>4.366490</td>\n",
       "      <td>15.851098</td>\n",
       "      <td>-0.050111</td>\n",
       "      <td>18</td>\n",
       "    </tr>\n",
       "    <tr>\n",
       "      <th>2</th>\n",
       "      <td>1.064143</td>\n",
       "      <td>-0.571730</td>\n",
       "      <td>-3.182668</td>\n",
       "      <td>-0.246717</td>\n",
       "      <td>359</td>\n",
       "      <td>11.824632</td>\n",
       "      <td>6.606207</td>\n",
       "      <td>11.863941</td>\n",
       "      <td>-0.050111</td>\n",
       "      <td>17</td>\n",
       "    </tr>\n",
       "    <tr>\n",
       "      <th>3</th>\n",
       "      <td>-1.373404</td>\n",
       "      <td>1.453998</td>\n",
       "      <td>0.795709</td>\n",
       "      <td>0.816575</td>\n",
       "      <td>21</td>\n",
       "      <td>11.824632</td>\n",
       "      <td>8.845924</td>\n",
       "      <td>-0.097529</td>\n",
       "      <td>6.767480</td>\n",
       "      <td>14</td>\n",
       "    </tr>\n",
       "    <tr>\n",
       "      <th>4</th>\n",
       "      <td>-1.375210</td>\n",
       "      <td>1.453998</td>\n",
       "      <td>0.622736</td>\n",
       "      <td>0.816575</td>\n",
       "      <td>21</td>\n",
       "      <td>11.824632</td>\n",
       "      <td>6.606207</td>\n",
       "      <td>-0.097529</td>\n",
       "      <td>6.767480</td>\n",
       "      <td>14</td>\n",
       "    </tr>\n",
       "  </tbody>\n",
       "</table>\n",
       "</div>"
      ],
      "text/plain": [
       "       Name  Platform      Year     Genre  Publisher   NA_Sales  EU_Sales  \\\n",
       "0  1.067754  0.858195 -2.836722 -0.246717        359  15.813249  6.606207   \n",
       "1  1.065648 -1.286693 -3.009695 -0.246717        359  13.154171  4.366490   \n",
       "2  1.064143 -0.571730 -3.182668 -0.246717        359  11.824632  6.606207   \n",
       "3 -1.373404  1.453998  0.795709  0.816575         21  11.824632  8.845924   \n",
       "4 -1.375210  1.453998  0.622736  0.816575         21  11.824632  6.606207   \n",
       "\n",
       "    JP_Sales  Other_Sales  Global_Sales  \n",
       "0  11.863941    -0.050111            20  \n",
       "1  15.851098    -0.050111            18  \n",
       "2  11.863941    -0.050111            17  \n",
       "3  -0.097529     6.767480            14  \n",
       "4  -0.097529     6.767480            14  "
      ]
     },
     "execution_count": 3,
     "metadata": {},
     "output_type": "execute_result"
    }
   ],
   "source": [
    "df.head()"
   ]
  },
  {
   "cell_type": "code",
   "execution_count": 4,
   "id": "cc9405c2",
   "metadata": {},
   "outputs": [],
   "source": [
    "X= df.iloc[:, :-1] \n",
    "  \n",
    "y= df.iloc[:, -1]"
   ]
  },
  {
   "cell_type": "markdown",
   "id": "87ef6618",
   "metadata": {},
   "source": [
    "# information gain"
   ]
  },
  {
   "cell_type": "code",
   "execution_count": 5,
   "id": "ceabbe90",
   "metadata": {},
   "outputs": [
    {
     "data": {
      "image/png": "[encoded data removed]",
      "text/plain": [
       "<Figure size 640x480 with 1 Axes>"
      ]
     },
     "metadata": {},
     "output_type": "display_data"
    }
   ],
   "source": [
    "importances = mutual_info_classif(X, y)\n",
    "\n",
    "feat_importances = pd.Series(importances, index=X.columns)\n",
    "\n",
    "feat_importances.plot(kind='barh', color='teal')\n",
    "plt.title('Feature Importances')\n",
    "plt.xlabel('Importance Score')\n",
    "plt.ylabel('Features')\n",
    "plt.show()"
   ]
  },
  {
   "cell_type": "markdown",
   "id": "147fa0a6",
   "metadata": {},
   "source": [
    "# fisher score"
   ]
  },
  {
   "cell_type": "code",
   "execution_count": 6,
   "id": "2596e050",
   "metadata": {},
   "outputs": [],
   "source": [
    "#ranks = fisher_score.fisher_score(X.values, y.values)\n",
    "\n",
    "#feat_importances = pd.Series(ranks, index=X.columns)\n",
    "\n",
    "#feat_importances.plot(kind='barh', color='teal')\n",
    "#plt.title('Feature Importances using Fisher Score')\n",
    "#plt.xlabel('Importance Score')\n",
    "#plt.ylabel('Features')\n",
    "#plt.show()"
   ]
  },
  {
   "cell_type": "markdown",
   "id": "6ac9f31b",
   "metadata": {},
   "source": [
    "# Chi-square"
   ]
  },
  {
   "cell_type": "code",
   "execution_count": 7,
   "id": "67bb3544",
   "metadata": {},
   "outputs": [],
   "source": [
    "#from sklearn.feature_selection import SelectKBest\n",
    "#from sklearn.feature_selection import chi2\n",
    "#X_cat = X.astype(int)\n",
    "#X_cat=(X-X.min()).astype(int)\n",
    "#chi2_features = SelectKBest(chi2, k=3)\n",
    "#X_kbest_features = chi2_features.fit_transform(X_cat, y)\n",
    "#print('Original feature number:', X_cat.shape[1])\n",
    "#print('Reduced feature number:', X_kbest_features.shape[1])\n",
    "#print('Selected features:', X_kbest_features[:5]) "
   ]
  },
  {
   "cell_type": "markdown",
   "id": "c842a59a",
   "metadata": {},
   "source": [
    "# vif test"
   ]
  },
  {
   "cell_type": "code",
   "execution_count": 27,
   "id": "8287ed0e",
   "metadata": {},
   "outputs": [
    {
     "name": "stdout",
     "output_type": "stream",
     "text": [
      "         Feature        VIF\n",
      "0          const   4.691150\n",
      "1           Name   1.001714\n",
      "2       Platform   1.037126\n",
      "3           Year   1.071136\n",
      "4          Genre   1.021293\n",
      "5      Publisher   1.005609\n",
      "6       NA_Sales   5.095846\n",
      "7       EU_Sales   3.070707\n",
      "8       JP_Sales   1.608924\n",
      "9    Other_Sales   1.215533\n",
      "10  Global_Sales  10.075572\n"
     ]
    }
   ],
   "source": [
    "import pandas as pd\n",
    "import numpy as np\n",
    "from statsmodels.stats.outliers_influence import variance_inflation_factor\n",
    "from statsmodels.tools.tools import add_constant\n",
    "X = add_constant(df)\n",
    "vif_data = pd.DataFrame()\n",
    "vif_data[\"Feature\"] = X.columns\n",
    "vif_data[\"VIF\"] = [variance_inflation_factor(X.values, i) for i in range(X.shape[1])]\n",
    "print(vif_data)"
   ]
  },
  {
   "cell_type": "code",
   "execution_count": 9,
   "id": "96aeeafd",
   "metadata": {},
   "outputs": [],
   "source": [
    "X_train, X_test, y_train, y_test = train_test_split(X, y, test_size=0.4, random_state=101)"
   ]
  },
  {
   "cell_type": "code",
   "execution_count": 10,
   "id": "b0180797",
   "metadata": {},
   "outputs": [],
   "source": [
    "lm = LinearRegression()"
   ]
  },
  {
   "cell_type": "code",
   "execution_count": 11,
   "id": "efaadfbe",
   "metadata": {},
   "outputs": [
    {
     "data": {
      "text/html": [
       "<style>#sk-container-id-1 {color: black;background-color: white;}#sk-container-id-1 pre{padding: 0;}#sk-container-id-1 div.sk-toggleable {background-color: white;}#sk-container-id-1 label.sk-toggleable__label {cursor: pointer;display: block;width: 100%;margin-bottom: 0;padding: 0.3em;box-sizing: border-box;text-align: center;}#sk-container-id-1 label.sk-toggleable__label-arrow:before {content: \"▸\";float: left;margin-right: 0.25em;color: #696969;}#sk-container-id-1 label.sk-toggleable__label-arrow:hover:before {color: black;}#sk-container-id-1 div.sk-estimator:hover label.sk-toggleable__label-arrow:before {color: black;}#sk-container-id-1 div.sk-toggleable__content {max-height: 0;max-width: 0;overflow: hidden;text-align: left;background-color: #f0f8ff;}#sk-container-id-1 div.sk-toggleable__content pre {margin: 0.2em;color: black;border-radius: 0.25em;background-color: #f0f8ff;}#sk-container-id-1 input.sk-toggleable__control:checked~div.sk-toggleable__content {max-height: 200px;max-width: 100%;overflow: auto;}#sk-container-id-1 input.sk-toggleable__control:checked~label.sk-toggleable__label-arrow:before {content: \"▾\";}#sk-container-id-1 div.sk-estimator input.sk-toggleable__control:checked~label.sk-toggleable__label {background-color: #d4ebff;}#sk-container-id-1 div.sk-label input.sk-toggleable__control:checked~label.sk-toggleable__label {background-color: #d4ebff;}#sk-container-id-1 input.sk-hidden--visually {border: 0;clip: rect(1px 1px 1px 1px);clip: rect(1px, 1px, 1px, 1px);height: 1px;margin: -1px;overflow: hidden;padding: 0;position: absolute;width: 1px;}#sk-container-id-1 div.sk-estimator {font-family: monospace;background-color: #f0f8ff;border: 1px dotted black;border-radius: 0.25em;box-sizing: border-box;margin-bottom: 0.5em;}#sk-container-id-1 div.sk-estimator:hover {background-color: #d4ebff;}#sk-container-id-1 div.sk-parallel-item::after {content: \"\";width: 100%;border-bottom: 1px solid gray;flex-grow: 1;}#sk-container-id-1 div.sk-label:hover label.sk-toggleable__label {background-color: #d4ebff;}#sk-container-id-1 div.sk-serial::before {content: \"\";position: absolute;border-left: 1px solid gray;box-sizing: border-box;top: 0;bottom: 0;left: 50%;z-index: 0;}#sk-container-id-1 div.sk-serial {display: flex;flex-direction: column;align-items: center;background-color: white;padding-right: 0.2em;padding-left: 0.2em;position: relative;}#sk-container-id-1 div.sk-item {position: relative;z-index: 1;}#sk-container-id-1 div.sk-parallel {display: flex;align-items: stretch;justify-content: center;background-color: white;position: relative;}#sk-container-id-1 div.sk-item::before, #sk-container-id-1 div.sk-parallel-item::before {content: \"\";position: absolute;border-left: 1px solid gray;box-sizing: border-box;top: 0;bottom: 0;left: 50%;z-index: -1;}#sk-container-id-1 div.sk-parallel-item {display: flex;flex-direction: column;z-index: 1;position: relative;background-color: white;}#sk-container-id-1 div.sk-parallel-item:first-child::after {align-self: flex-end;width: 50%;}#sk-container-id-1 div.sk-parallel-item:last-child::after {align-self: flex-start;width: 50%;}#sk-container-id-1 div.sk-parallel-item:only-child::after {width: 0;}#sk-container-id-1 div.sk-dashed-wrapped {border: 1px dashed gray;margin: 0 0.4em 0.5em 0.4em;box-sizing: border-box;padding-bottom: 0.4em;background-color: white;}#sk-container-id-1 div.sk-label label {font-family: monospace;font-weight: bold;display: inline-block;line-height: 1.2em;}#sk-container-id-1 div.sk-label-container {text-align: center;}#sk-container-id-1 div.sk-container {/* jupyter's `normalize.less` sets `[hidden] { display: none; }` but bootstrap.min.css set `[hidden] { display: none !important; }` so we also need the `!important` here to be able to override the default hidden behavior on the sphinx rendered scikit-learn.org. See: https://github.com/scikit-learn/scikit-learn/issues/21755 */display: inline-block !important;position: relative;}#sk-container-id-1 div.sk-text-repr-fallback {display: none;}</style><div id=\"sk-container-id-1\" class=\"sk-top-container\"><div class=\"sk-text-repr-fallback\"><pre>LinearRegression()</pre><b>In a Jupyter environment, please rerun this cell to show the HTML representation or trust the notebook. <br />On GitHub, the HTML representation is unable to render, please try loading this page with nbviewer.org.</b></div><div class=\"sk-container\" hidden><div class=\"sk-item\"><div class=\"sk-estimator sk-toggleable\"><input class=\"sk-toggleable__control sk-hidden--visually\" id=\"sk-estimator-id-1\" type=\"checkbox\" checked><label for=\"sk-estimator-id-1\" class=\"sk-toggleable__label sk-toggleable__label-arrow\">LinearRegression</label><div class=\"sk-toggleable__content\"><pre>LinearRegression()</pre></div></div></div></div></div>"
      ],
      "text/plain": [
       "LinearRegression()"
      ]
     },
     "execution_count": 11,
     "metadata": {},
     "output_type": "execute_result"
    }
   ],
   "source": [
    "lm.fit(X_train,y_train)"
   ]
  },
  {
   "cell_type": "code",
   "execution_count": 12,
   "id": "a579d943",
   "metadata": {},
   "outputs": [],
   "source": [
    "predictions = lm.predict(X_test)"
   ]
  },
  {
   "cell_type": "code",
   "execution_count": 13,
   "id": "9efc84fa",
   "metadata": {},
   "outputs": [
    {
     "data": {
      "text/plain": [
       "0.889793346794808"
      ]
     },
     "execution_count": 13,
     "metadata": {},
     "output_type": "execute_result"
    }
   ],
   "source": [
    "lm.score(X_test, y_test)"
   ]
  },
  {
   "cell_type": "code",
   "execution_count": 14,
   "id": "c8e4adca",
   "metadata": {},
   "outputs": [
    {
     "data": {
      "text/html": [
       "<div>\n",
       "<style scoped>\n",
       "    .dataframe tbody tr th:only-of-type {\n",
       "        vertical-align: middle;\n",
       "    }\n",
       "\n",
       "    .dataframe tbody tr th {\n",
       "        vertical-align: top;\n",
       "    }\n",
       "\n",
       "    .dataframe thead th {\n",
       "        text-align: right;\n",
       "    }\n",
       "</style>\n",
       "<table border=\"1\" class=\"dataframe\">\n",
       "  <thead>\n",
       "    <tr style=\"text-align: right;\">\n",
       "      <th></th>\n",
       "      <th>Coefficient</th>\n",
       "    </tr>\n",
       "  </thead>\n",
       "  <tbody>\n",
       "    <tr>\n",
       "      <th>Name</th>\n",
       "      <td>0.006421</td>\n",
       "    </tr>\n",
       "    <tr>\n",
       "      <th>Platform</th>\n",
       "      <td>0.010314</td>\n",
       "    </tr>\n",
       "    <tr>\n",
       "      <th>Year</th>\n",
       "      <td>-0.009306</td>\n",
       "    </tr>\n",
       "    <tr>\n",
       "      <th>Genre</th>\n",
       "      <td>-0.005537</td>\n",
       "    </tr>\n",
       "    <tr>\n",
       "      <th>Publisher</th>\n",
       "      <td>0.000049</td>\n",
       "    </tr>\n",
       "    <tr>\n",
       "      <th>NA_Sales</th>\n",
       "      <td>0.870551</td>\n",
       "    </tr>\n",
       "    <tr>\n",
       "      <th>EU_Sales</th>\n",
       "      <td>0.593135</td>\n",
       "    </tr>\n",
       "    <tr>\n",
       "      <th>JP_Sales</th>\n",
       "      <td>0.274612</td>\n",
       "    </tr>\n",
       "    <tr>\n",
       "      <th>Other_Sales</th>\n",
       "      <td>0.118327</td>\n",
       "    </tr>\n",
       "  </tbody>\n",
       "</table>\n",
       "</div>"
      ],
      "text/plain": [
       "             Coefficient\n",
       "Name            0.006421\n",
       "Platform        0.010314\n",
       "Year           -0.009306\n",
       "Genre          -0.005537\n",
       "Publisher       0.000049\n",
       "NA_Sales        0.870551\n",
       "EU_Sales        0.593135\n",
       "JP_Sales        0.274612\n",
       "Other_Sales     0.118327"
      ]
     },
     "execution_count": 14,
     "metadata": {},
     "output_type": "execute_result"
    }
   ],
   "source": [
    "coeff_df = pd.DataFrame(lm.coef_,X.columns,columns=['Coefficient'])\n",
    "coeff_df"
   ]
  },
  {
   "cell_type": "code",
   "execution_count": 15,
   "id": "2efff678",
   "metadata": {},
   "outputs": [
    {
     "name": "stdout",
     "output_type": "stream",
     "text": [
      "0.28430025604406906\n"
     ]
    }
   ],
   "source": [
    "print(lm.intercept_)"
   ]
  },
  {
   "cell_type": "code",
   "execution_count": 16,
   "id": "ece14c82",
   "metadata": {},
   "outputs": [
    {
     "data": {
      "text/plain": [
       "<matplotlib.collections.PathCollection at 0x2c6f068c310>"
      ]
     },
     "execution_count": 16,
     "metadata": {},
     "output_type": "execute_result"
    },
    {
     "data": {
      "image/png": "[encoded data removed]",
      "text/plain": [
       "<Figure size 640x480 with 1 Axes>"
      ]
     },
     "metadata": {},
     "output_type": "display_data"
    }
   ],
   "source": [
    "plt.scatter(y_test,predictions)"
   ]
  },
  {
   "cell_type": "code",
   "execution_count": 17,
   "id": "f312befa",
   "metadata": {},
   "outputs": [
    {
     "data": {
      "image/png": "[encoded data removed]",
      "text/plain": [
       "<Figure size 400x300 with 1 Axes>"
      ]
     },
     "metadata": {},
     "output_type": "display_data"
    }
   ],
   "source": [
    "plt.figure(figsize=(4, 3))\n",
    "\n",
    "plt.scatter(y_test,predictions)\n",
    "\n",
    "plt.plot([0, 50], [0, 50], '--k')\n",
    "\n",
    "plt.axis('tight')\n",
    "\n",
    "plt.xlabel('True price')\n",
    "\n",
    "plt.ylabel('Predicted price ')\n",
    "\n",
    "plt.tight_layout()"
   ]
  },
  {
   "cell_type": "code",
   "execution_count": 18,
   "id": "6bac89c3",
   "metadata": {},
   "outputs": [
    {
     "name": "stdout",
     "output_type": "stream",
     "text": [
      "MAE: 0.15517587735169192\n",
      "MSE: 0.08644557084936598\n",
      "RMSE: 0.294016276504152\n"
     ]
    }
   ],
   "source": [
    "print('MAE:', mean_absolute_error(y_test, predictions))\n",
    "print('MSE:', mean_squared_error(y_test, predictions))\n",
    "print('RMSE:', np.sqrt(mean_squared_error(y_test, predictions)))"
   ]
  },
  {
   "cell_type": "markdown",
   "id": "d43525ed",
   "metadata": {},
   "source": [
    "# Ridge Regression"
   ]
  },
  {
   "cell_type": "code",
   "execution_count": 23,
   "id": "6bf62d1d",
   "metadata": {},
   "outputs": [],
   "source": [
    "ridge_model = Ridge(alpha=1) \n",
    "ridge_model.fit(X_train, y_train)\n",
    "y_pred_ridge = ridge_model.predict(X_test)"
   ]
  },
  {
   "cell_type": "code",
   "execution_count": 24,
   "id": "5e92da45",
   "metadata": {},
   "outputs": [
    {
     "data": {
      "text/plain": [
       "0.8897848787885771"
      ]
     },
     "execution_count": 24,
     "metadata": {},
     "output_type": "execute_result"
    }
   ],
   "source": [
    "ridge_model.score(X_test, y_test)"
   ]
  },
  {
   "cell_type": "code",
   "execution_count": 25,
   "id": "636c453b",
   "metadata": {},
   "outputs": [
    {
     "data": {
      "text/plain": [
       "0.9064728508884812"
      ]
     },
     "execution_count": 25,
     "metadata": {},
     "output_type": "execute_result"
    }
   ],
   "source": [
    "ridge_model.score(X_train,y_train)"
   ]
  },
  {
   "cell_type": "code",
   "execution_count": 26,
   "id": "1eef1141",
   "metadata": {},
   "outputs": [
    {
     "name": "stdout",
     "output_type": "stream",
     "text": [
      "Ridge Regression Mean Squared Error (MSE): 0.08645221311288909\n",
      "Ridge Regression R2 Score: 0.8897848787885771\n"
     ]
    }
   ],
   "source": [
    "mse_ridge = mean_squared_error(y_test, y_pred_ridge)\n",
    "r2_ridge = r2_score(y_test, y_pred_ridge)\n",
    "print(\"Ridge Regression Mean Squared Error (MSE):\", mse_ridge)\n",
    "print(\"Ridge Regression R2 Score:\", r2_ridge)"
   ]
  },
  {
   "cell_type": "code",
   "execution_count": null,
   "id": "fb8be506",
   "metadata": {},
   "outputs": [],
   "source": []
  },
  {
   "cell_type": "code",
   "execution_count": null,
   "id": "9738d0bf",
   "metadata": {},
   "outputs": [],
   "source": []
  },
  {
   "cell_type": "code",
   "execution_count": null,
   "id": "c342a686",
   "metadata": {},
   "outputs": [],
   "source": []
  },
  {
   "cell_type": "code",
   "execution_count": null,
   "id": "544430af",
   "metadata": {},
   "outputs": [],
   "source": []
  },
  {
   "cell_type": "code",
   "execution_count": null,
   "id": "8e6b6cd9",
   "metadata": {},
   "outputs": [],
   "source": []
  },
  {
   "cell_type": "code",
   "execution_count": null,
   "id": "4983a9eb",
   "metadata": {},
   "outputs": [],
   "source": []
  }
 ],
 "metadata": {
  "kernelspec": {
   "display_name": "Python 3 (ipykernel)",
   "language": "python",
   "name": "python3"
  },
  "language_info": {
   "codemirror_mode": {
    "name": "ipython",
    "version": 3
   },
   "file_extension": ".py",
   "mimetype": "text/x-python",
   "name": "python",
   "nbconvert_exporter": "python",
   "pygments_lexer": "ipython3",
   "version": "3.11.5"
  }
 },
 "nbformat": 4,
 "nbformat_minor": 5
}
